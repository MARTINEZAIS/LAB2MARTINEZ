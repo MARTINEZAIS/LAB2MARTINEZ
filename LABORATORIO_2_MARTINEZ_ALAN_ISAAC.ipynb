{
  "nbformat": 4,
  "nbformat_minor": 0,
  "metadata": {
    "colab": {
      "provenance": []
    },
    "kernelspec": {
      "name": "python3",
      "display_name": "Python 3"
    },
    "language_info": {
      "name": "python"
    }
  },
  "cells": [
    {
      "cell_type": "code",
      "execution_count": null,
      "metadata": {
        "id": "rnCSdt_7jNiE"
      },
      "outputs": [],
      "source": [
        "#VERIFICAR LIBRERIA PANDAS\n",
        "\n",
        "import pandas as pd\n",
        "\n",
        "path = \"/content/drive/MyDrive/CSV/atenciones_abogadas_de_las_mujeres.csv\"\n",
        "\n",
        "df = pd.read_csv(path)\n",
        "\n",
        "registros = df.shape[0]\n",
        "\n",
        "print(registros)"
      ]
    },
    {
      "cell_type": "code",
      "source": [
        "#HACER USO DE LA FUNCIÓN INFO()\n",
        "\n",
        "import pandas as pd\n",
        "\n",
        "path = \"/content/drive/MyDrive/CSV/atenciones_abogadas_de_las_mujeres.csv\"\n",
        "\n",
        "df = pd.read_csv(path)\n",
        "\n",
        "df.info()"
      ],
      "metadata": {
        "id": "gTaeyV4Xx1-0"
      },
      "execution_count": null,
      "outputs": []
    },
    {
      "cell_type": "code",
      "source": [
        "#HACER SO DE LA FUNCIÓN TAIL()\n",
        "\n",
        "import pandas as pd\n",
        "\n",
        "path = \"/content/drive/MyDrive/CSV/atenciones_abogadas_de_las_mujeres.csv\"\n",
        "\n",
        "df = pd.read_csv(path)\n",
        "\n",
        "df.tail(1)"
      ],
      "metadata": {
        "id": "3o2FNeuYyNqP"
      },
      "execution_count": null,
      "outputs": []
    },
    {
      "cell_type": "code",
      "source": [
        "#OBTENER EL RANGO DE FECHAS\n",
        "\n",
        "import pandas as pd\n",
        "\n",
        "path = \"/content/drive/MyDrive/CSV/atenciones_abogadas_de_las_mujeres.csv\"\n",
        "\n",
        "df = pd.read_csv(path)\n",
        "\n",
        "df['fecha'] = pd.to_datetime(df['fecha'], format=\"%Y/%m/%d\")\n",
        "\n",
        "fecha_inicial = df[\"fecha\"].min()\n",
        "\n",
        "fecha_final= df[\"fecha\"].max ()\n",
        "\n",
        "print(f\"El rango de de fecha es del {fecha_inicial} al {fecha_final}\")"
      ],
      "metadata": {
        "id": "7QyWcJY_yQAv"
      },
      "execution_count": null,
      "outputs": []
    },
    {
      "cell_type": "code",
      "source": [
        "#OBTENER LA MEDIA ARITMÉTICA\n",
        "\n",
        "import pandas as pd\n",
        "\n",
        "path = \"/content/drive/MyDrive/CSV/atenciones_abogadas_de_las_mujeres.csv\"\n",
        "\n",
        "df = pd.read_csv(path)\n",
        "\n",
        "media = df['usuaria_edad'].mode()\n",
        "\n",
        "print(media)"
      ],
      "metadata": {
        "id": "sPp_AySLyX2u"
      },
      "execution_count": null,
      "outputs": []
    },
    {
      "cell_type": "code",
      "source": [
        "#OBTENER LA MODA\n",
        "\n",
        "import pandas as pd\n",
        "\n",
        "path = \"/content/drive/MyDrive/CSV/atenciones_abogadas_de_las_mujeres.csv\"\n",
        "\n",
        "df = pd.read_csv(path)\n",
        "\n",
        "moda = df['usuaria_edad'].mode\n",
        "\n",
        "print(moda)"
      ],
      "metadata": {
        "id": "-KuQTs5Aybn0"
      },
      "execution_count": null,
      "outputs": []
    }
  ]
}